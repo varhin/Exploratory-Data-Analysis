{
 "cells": [
  {
   "cell_type": "code",
   "execution_count": 2,
   "metadata": {},
   "outputs": [
    {
     "data": {
      "text/html": [
       "        <script type=\"text/javascript\">\n",
       "        window.PlotlyConfig = {MathJaxConfig: 'local'};\n",
       "        if (window.MathJax) {MathJax.Hub.Config({SVG: {font: \"STIX-Web\"}});}\n",
       "        if (typeof require !== 'undefined') {\n",
       "        require.undef(\"plotly\");\n",
       "        requirejs.config({\n",
       "            paths: {\n",
       "                'plotly': ['https://cdn.plot.ly/plotly-2.6.3.min']\n",
       "            }\n",
       "        });\n",
       "        require(['plotly'], function(Plotly) {\n",
       "            window._Plotly = Plotly;\n",
       "        });\n",
       "        }\n",
       "        </script>\n",
       "        "
      ]
     },
     "metadata": {},
     "output_type": "display_data"
    },
    {
     "name": "stdout",
     "output_type": "stream",
     "text": [
      "Loading...\n",
      "100%...necessary libraries imported\n"
     ]
    }
   ],
   "source": [
    "#general libraries\n",
    "import pandas as pd\n",
    "import numpy as np\n",
    "import matplotlib.pyplot as plt\n",
    "\n",
    "#Plots\n",
    "import seaborn as sns\n",
    "import matplotlib.pyplot as plt\n",
    "%matplotlib inline\n",
    "import plotly.offline as py\n",
    "import plotly.graph_objs as go\n",
    "from plotly.offline import download_plotlyjs, init_notebook_mode, plot, iplot\n",
    "import plotly.tools as tls\n",
    "import plotly.figure_factory as ff\n",
    "py.init_notebook_mode(connected=True)\n",
    "\n",
    "print('Loading...')\n",
    "print('100%...necessary libraries imported')"
   ]
  },
  {
   "cell_type": "markdown",
   "metadata": {},
   "source": [
    "# General Df Assessment"
   ]
  },
  {
   "cell_type": "code",
   "execution_count": 3,
   "metadata": {},
   "outputs": [
    {
     "data": {
      "text/html": [
       "<div>\n",
       "<style scoped>\n",
       "    .dataframe tbody tr th:only-of-type {\n",
       "        vertical-align: middle;\n",
       "    }\n",
       "\n",
       "    .dataframe tbody tr th {\n",
       "        vertical-align: top;\n",
       "    }\n",
       "\n",
       "    .dataframe thead th {\n",
       "        text-align: right;\n",
       "    }\n",
       "</style>\n",
       "<table border=\"1\" class=\"dataframe\">\n",
       "  <thead>\n",
       "    <tr style=\"text-align: right;\">\n",
       "      <th></th>\n",
       "      <th>Gender</th>\n",
       "      <th>Age</th>\n",
       "      <th>Income</th>\n",
       "      <th>Region</th>\n",
       "      <th>PartyID</th>\n",
       "      <th>Ideology</th>\n",
       "      <th>Vote Intention</th>\n",
       "      <th>Attention to election</th>\n",
       "    </tr>\n",
       "  </thead>\n",
       "  <tbody>\n",
       "    <tr>\n",
       "      <td>0</td>\n",
       "      <td>Male</td>\n",
       "      <td>45-65</td>\n",
       "      <td>Under $50K</td>\n",
       "      <td>West</td>\n",
       "      <td>Democratic</td>\n",
       "      <td>Liberal</td>\n",
       "      <td>Trump</td>\n",
       "      <td>A lot</td>\n",
       "    </tr>\n",
       "    <tr>\n",
       "      <td>1</td>\n",
       "      <td>Male</td>\n",
       "      <td>65+</td>\n",
       "      <td>$50-100K</td>\n",
       "      <td>West</td>\n",
       "      <td>Independent</td>\n",
       "      <td>Modern Liberal</td>\n",
       "      <td>Trump</td>\n",
       "      <td>A lot</td>\n",
       "    </tr>\n",
       "    <tr>\n",
       "      <td>2</td>\n",
       "      <td>Male</td>\n",
       "      <td>30-44</td>\n",
       "      <td>Under $50K</td>\n",
       "      <td>Midwest</td>\n",
       "      <td>Democratic</td>\n",
       "      <td>Conservative</td>\n",
       "      <td>Trump</td>\n",
       "      <td>A lot</td>\n",
       "    </tr>\n",
       "    <tr>\n",
       "      <td>3</td>\n",
       "      <td>Male</td>\n",
       "      <td>30-44</td>\n",
       "      <td>Under $50K</td>\n",
       "      <td>Northeast</td>\n",
       "      <td>Democratic</td>\n",
       "      <td>Liberal</td>\n",
       "      <td>Biden</td>\n",
       "      <td>A lot</td>\n",
       "    </tr>\n",
       "    <tr>\n",
       "      <td>4</td>\n",
       "      <td>Male</td>\n",
       "      <td>45-65</td>\n",
       "      <td>Under $50K</td>\n",
       "      <td>Midwest</td>\n",
       "      <td>Republican</td>\n",
       "      <td>Conservative</td>\n",
       "      <td>Trump</td>\n",
       "      <td>A lot</td>\n",
       "    </tr>\n",
       "    <tr>\n",
       "      <td>...</td>\n",
       "      <td>...</td>\n",
       "      <td>...</td>\n",
       "      <td>...</td>\n",
       "      <td>...</td>\n",
       "      <td>...</td>\n",
       "      <td>...</td>\n",
       "      <td>...</td>\n",
       "      <td>...</td>\n",
       "    </tr>\n",
       "    <tr>\n",
       "      <td>1194</td>\n",
       "      <td>Female</td>\n",
       "      <td>18-29</td>\n",
       "      <td>Under $50K</td>\n",
       "      <td>South</td>\n",
       "      <td>Democratic</td>\n",
       "      <td>Liberal</td>\n",
       "      <td>Trump</td>\n",
       "      <td>A lot</td>\n",
       "    </tr>\n",
       "    <tr>\n",
       "      <td>1195</td>\n",
       "      <td>Female</td>\n",
       "      <td>45-65</td>\n",
       "      <td>$50-100K</td>\n",
       "      <td>South</td>\n",
       "      <td>Democratic</td>\n",
       "      <td>Modern Liberal</td>\n",
       "      <td>Biden</td>\n",
       "      <td>A lot</td>\n",
       "    </tr>\n",
       "    <tr>\n",
       "      <td>1196</td>\n",
       "      <td>Female</td>\n",
       "      <td>65+</td>\n",
       "      <td>Under $50K</td>\n",
       "      <td>Midwest</td>\n",
       "      <td>Democratic</td>\n",
       "      <td>Liberal</td>\n",
       "      <td>Trump</td>\n",
       "      <td>Some</td>\n",
       "    </tr>\n",
       "    <tr>\n",
       "      <td>1197</td>\n",
       "      <td>Female</td>\n",
       "      <td>45-65</td>\n",
       "      <td>$50-100K</td>\n",
       "      <td>South</td>\n",
       "      <td>Independent</td>\n",
       "      <td>Conservative</td>\n",
       "      <td>Biden</td>\n",
       "      <td>Some</td>\n",
       "    </tr>\n",
       "    <tr>\n",
       "      <td>1198</td>\n",
       "      <td>Female</td>\n",
       "      <td>45-65</td>\n",
       "      <td>$100K or more</td>\n",
       "      <td>Northeast</td>\n",
       "      <td>Independent</td>\n",
       "      <td>Conservative</td>\n",
       "      <td>Biden</td>\n",
       "      <td>Some</td>\n",
       "    </tr>\n",
       "  </tbody>\n",
       "</table>\n",
       "<p>1199 rows × 8 columns</p>\n",
       "</div>"
      ],
      "text/plain": [
       "      Gender    Age         Income     Region      PartyID        Ideology  \\\n",
       "0       Male  45-65     Under $50K       West   Democratic         Liberal   \n",
       "1       Male    65+       $50-100K       West  Independent  Modern Liberal   \n",
       "2       Male  30-44     Under $50K    Midwest   Democratic    Conservative   \n",
       "3       Male  30-44     Under $50K  Northeast   Democratic         Liberal   \n",
       "4       Male  45-65     Under $50K    Midwest   Republican    Conservative   \n",
       "...      ...    ...            ...        ...          ...             ...   \n",
       "1194  Female  18-29     Under $50K      South   Democratic         Liberal   \n",
       "1195  Female  45-65       $50-100K      South   Democratic  Modern Liberal   \n",
       "1196  Female    65+     Under $50K    Midwest   Democratic         Liberal   \n",
       "1197  Female  45-65       $50-100K      South  Independent    Conservative   \n",
       "1198  Female  45-65  $100K or more  Northeast  Independent    Conservative   \n",
       "\n",
       "     Vote Intention Attention to election  \n",
       "0             Trump                 A lot  \n",
       "1             Trump                 A lot  \n",
       "2             Trump                 A lot  \n",
       "3             Biden                 A lot  \n",
       "4             Trump                 A lot  \n",
       "...             ...                   ...  \n",
       "1194          Trump                 A lot  \n",
       "1195          Biden                 A lot  \n",
       "1196          Trump                  Some  \n",
       "1197          Biden                  Some  \n",
       "1198          Biden                  Some  \n",
       "\n",
       "[1199 rows x 8 columns]"
      ]
     },
     "execution_count": 3,
     "metadata": {},
     "output_type": "execute_result"
    }
   ],
   "source": [
    "data = pd.read_excel('improvised_data_train.xlsx')\n",
    "data"
   ]
  },
  {
   "cell_type": "code",
   "execution_count": 4,
   "metadata": {},
   "outputs": [
    {
     "name": "stdout",
     "output_type": "stream",
     "text": [
      "<class 'pandas.core.frame.DataFrame'>\n",
      "RangeIndex: 1199 entries, 0 to 1198\n",
      "Data columns (total 8 columns):\n",
      "Gender                   1199 non-null object\n",
      "Age                      1199 non-null object\n",
      "Income                   1199 non-null object\n",
      "Region                   1199 non-null object\n",
      "PartyID                  1199 non-null object\n",
      "Ideology                 1199 non-null object\n",
      "Vote Intention           1199 non-null object\n",
      "Attention to election    1199 non-null object\n",
      "dtypes: object(8)\n",
      "memory usage: 75.1+ KB\n"
     ]
    }
   ],
   "source": [
    "data.info()"
   ]
  },
  {
   "cell_type": "code",
   "execution_count": 5,
   "metadata": {},
   "outputs": [
    {
     "data": {
      "text/html": [
       "<div>\n",
       "<style scoped>\n",
       "    .dataframe tbody tr th:only-of-type {\n",
       "        vertical-align: middle;\n",
       "    }\n",
       "\n",
       "    .dataframe tbody tr th {\n",
       "        vertical-align: top;\n",
       "    }\n",
       "\n",
       "    .dataframe thead th {\n",
       "        text-align: right;\n",
       "    }\n",
       "</style>\n",
       "<table border=\"1\" class=\"dataframe\">\n",
       "  <thead>\n",
       "    <tr style=\"text-align: right;\">\n",
       "      <th></th>\n",
       "      <th>Gender</th>\n",
       "      <th>Age</th>\n",
       "      <th>Income</th>\n",
       "      <th>Region</th>\n",
       "      <th>PartyID</th>\n",
       "      <th>Ideology</th>\n",
       "      <th>Vote Intention</th>\n",
       "      <th>Attention to election</th>\n",
       "    </tr>\n",
       "  </thead>\n",
       "  <tbody>\n",
       "    <tr>\n",
       "      <td>count</td>\n",
       "      <td>1199</td>\n",
       "      <td>1199</td>\n",
       "      <td>1199</td>\n",
       "      <td>1199</td>\n",
       "      <td>1199</td>\n",
       "      <td>1199</td>\n",
       "      <td>1199</td>\n",
       "      <td>1199</td>\n",
       "    </tr>\n",
       "    <tr>\n",
       "      <td>unique</td>\n",
       "      <td>2</td>\n",
       "      <td>4</td>\n",
       "      <td>3</td>\n",
       "      <td>4</td>\n",
       "      <td>3</td>\n",
       "      <td>3</td>\n",
       "      <td>3</td>\n",
       "      <td>3</td>\n",
       "    </tr>\n",
       "    <tr>\n",
       "      <td>top</td>\n",
       "      <td>Male</td>\n",
       "      <td>45-65</td>\n",
       "      <td>Under $50K</td>\n",
       "      <td>South</td>\n",
       "      <td>Democratic</td>\n",
       "      <td>Conservative</td>\n",
       "      <td>Biden</td>\n",
       "      <td>A lot</td>\n",
       "    </tr>\n",
       "    <tr>\n",
       "      <td>freq</td>\n",
       "      <td>683</td>\n",
       "      <td>506</td>\n",
       "      <td>510</td>\n",
       "      <td>469</td>\n",
       "      <td>434</td>\n",
       "      <td>444</td>\n",
       "      <td>611</td>\n",
       "      <td>1018</td>\n",
       "    </tr>\n",
       "  </tbody>\n",
       "</table>\n",
       "</div>"
      ],
      "text/plain": [
       "       Gender    Age      Income Region     PartyID      Ideology  \\\n",
       "count    1199   1199        1199   1199        1199          1199   \n",
       "unique      2      4           3      4           3             3   \n",
       "top      Male  45-65  Under $50K  South  Democratic  Conservative   \n",
       "freq      683    506         510    469         434           444   \n",
       "\n",
       "       Vote Intention Attention to election  \n",
       "count            1199                  1199  \n",
       "unique              3                     3  \n",
       "top             Biden                 A lot  \n",
       "freq              611                  1018  "
      ]
     },
     "execution_count": 5,
     "metadata": {},
     "output_type": "execute_result"
    }
   ],
   "source": [
    "data.describe()"
   ]
  },
  {
   "cell_type": "code",
   "execution_count": 6,
   "metadata": {},
   "outputs": [
    {
     "data": {
      "text/plain": [
       "Gender                   0\n",
       "Age                      0\n",
       "Income                   0\n",
       "Region                   0\n",
       "PartyID                  0\n",
       "Ideology                 0\n",
       "Vote Intention           0\n",
       "Attention to election    0\n",
       "dtype: int64"
      ]
     },
     "execution_count": 6,
     "metadata": {},
     "output_type": "execute_result"
    }
   ],
   "source": [
    "data.isnull().sum()"
   ]
  },
  {
   "cell_type": "code",
   "execution_count": 7,
   "metadata": {},
   "outputs": [
    {
     "data": {
      "text/plain": [
       "Index(['Gender', 'Age', 'Income', 'Region', 'PartyID', 'Ideology',\n",
       "       'Vote_Intention', 'Attention_to_election'],\n",
       "      dtype='object')"
      ]
     },
     "execution_count": 7,
     "metadata": {},
     "output_type": "execute_result"
    }
   ],
   "source": [
    "data.columns = ['Gender', 'Age', 'Income', 'Region', 'PartyID', 'Ideology',\n",
    "       'Vote_Intention', 'Attention_to_election']\n",
    "data.columns"
   ]
  },
  {
   "cell_type": "markdown",
   "metadata": {},
   "source": [
    "# Univariate Analysis"
   ]
  },
  {
   "cell_type": "code",
   "execution_count": 8,
   "metadata": {},
   "outputs": [
    {
     "data": {
      "text/plain": [
       "Male      683\n",
       "Female    516\n",
       "Name: Gender, dtype: int64"
      ]
     },
     "execution_count": 8,
     "metadata": {},
     "output_type": "execute_result"
    }
   ],
   "source": [
    "data.Gender.value_counts()"
   ]
  },
  {
   "cell_type": "code",
   "execution_count": 9,
   "metadata": {},
   "outputs": [
    {
     "data": {
      "text/plain": [
       "45-65    506\n",
       "65+      312\n",
       "30-44    242\n",
       "18-29    139\n",
       "Name: Age, dtype: int64"
      ]
     },
     "execution_count": 9,
     "metadata": {},
     "output_type": "execute_result"
    }
   ],
   "source": [
    "data.Age.value_counts()"
   ]
  },
  {
   "cell_type": "code",
   "execution_count": 10,
   "metadata": {},
   "outputs": [
    {
     "data": {
      "text/plain": [
       "Under $50K       510\n",
       "$50-100K         414\n",
       "$100K or more    275\n",
       "Name: Income, dtype: int64"
      ]
     },
     "execution_count": 10,
     "metadata": {},
     "output_type": "execute_result"
    }
   ],
   "source": [
    "data.Income.value_counts()"
   ]
  },
  {
   "cell_type": "code",
   "execution_count": 11,
   "metadata": {},
   "outputs": [
    {
     "data": {
      "text/plain": [
       "South        469\n",
       "West         312\n",
       "Midwest      214\n",
       "Northeast    204\n",
       "Name: Region, dtype: int64"
      ]
     },
     "execution_count": 11,
     "metadata": {},
     "output_type": "execute_result"
    }
   ],
   "source": [
    "data.Region.value_counts()"
   ]
  },
  {
   "cell_type": "code",
   "execution_count": 12,
   "metadata": {},
   "outputs": [
    {
     "data": {
      "text/plain": [
       "Democratic     434\n",
       "Independent    431\n",
       "Republican     334\n",
       "Name: PartyID, dtype: int64"
      ]
     },
     "execution_count": 12,
     "metadata": {},
     "output_type": "execute_result"
    }
   ],
   "source": [
    "data.PartyID.value_counts()"
   ]
  },
  {
   "cell_type": "code",
   "execution_count": 13,
   "metadata": {},
   "outputs": [
    {
     "data": {
      "text/plain": [
       "Conservative      444\n",
       "Liberal           383\n",
       "Modern Liberal    372\n",
       "Name: Ideology, dtype: int64"
      ]
     },
     "execution_count": 13,
     "metadata": {},
     "output_type": "execute_result"
    }
   ],
   "source": [
    "data.Ideology.value_counts()"
   ]
  },
  {
   "cell_type": "code",
   "execution_count": 14,
   "metadata": {},
   "outputs": [
    {
     "data": {
      "text/plain": [
       "Biden    611\n",
       "Trump    514\n",
       "Other     74\n",
       "Name: Vote_Intention, dtype: int64"
      ]
     },
     "execution_count": 14,
     "metadata": {},
     "output_type": "execute_result"
    }
   ],
   "source": [
    "data.Vote_Intention.value_counts()"
   ]
  },
  {
   "cell_type": "code",
   "execution_count": 15,
   "metadata": {},
   "outputs": [
    {
     "data": {
      "text/plain": [
       "A lot            1018\n",
       "Some              119\n",
       "Only a little      62\n",
       "Name: Attention_to_election, dtype: int64"
      ]
     },
     "execution_count": 15,
     "metadata": {},
     "output_type": "execute_result"
    }
   ],
   "source": [
    "data.Attention_to_election.value_counts()"
   ]
  },
  {
   "cell_type": "markdown",
   "metadata": {},
   "source": [
    "# Multivariate\n",
    "## Citizens who paid attention to election"
   ]
  },
  {
   "cell_type": "code",
   "execution_count": 16,
   "metadata": {},
   "outputs": [
    {
     "data": {
      "text/plain": [
       "Age    Gender\n",
       "18-29  Female     67\n",
       "       Male       72\n",
       "30-44  Female    107\n",
       "       Male      135\n",
       "45-65  Female    211\n",
       "       Male      295\n",
       "65+    Female    131\n",
       "       Male      181\n",
       "Name: Attention_to_election, dtype: int64"
      ]
     },
     "execution_count": 16,
     "metadata": {},
     "output_type": "execute_result"
    }
   ],
   "source": [
    "data.groupby(['Age', 'Gender']).count()['Attention_to_election']"
   ]
  },
  {
   "cell_type": "code",
   "execution_count": 26,
   "metadata": {},
   "outputs": [
    {
     "data": {
      "text/plain": [
       "Text(0.5, 1.0, 'Attention to election')"
      ]
     },
     "execution_count": 26,
     "metadata": {},
     "output_type": "execute_result"
    },
    {
     "data": {
      "image/png": "[encoded data removed]",
      "text/plain": [
       "<Figure size 864x576 with 1 Axes>"
      ]
     },
     "metadata": {
      "needs_background": "light"
     },
     "output_type": "display_data"
    }
   ],
   "source": [
    "plt.figure(figsize=(12,8))\n",
    "x_gender = ['Female', 'Male']\n",
    "x_indexes = np.arange(len(x_gender))\n",
    "width = 0.1 \n",
    "\n",
    "y_18_29 = [67, 72]\n",
    "y_18 = [103, 72]\n",
    "plt.bar(x_indexes + 0.1, y_18_29, width = width ,label = '18-29')\n",
    "\n",
    "y_30_44 = [107, 35]\n",
    "plt.bar(x_indexes - 0.1, y_30_44, width = width, label = '30-44')\n",
    "\n",
    "y_45_65 = [211, 295]\n",
    "plt.bar(x_indexes, y_45_65, width = width, label = '45-65')\n",
    "\n",
    "y_65plus = [131, 181]\n",
    "plt.bar(x_indexes + 0.2, y_65plus, width = width, label = '65+')\n",
    "\n",
    "plt.legend()\n",
    "\n",
    "plt.xlabel('Gender', fontsize=18)\n",
    "plt.xticks(ticks = x_indexes, labels = x_gender, fontsize = 12)\n",
    "plt.yticks(fontsize = 14)\n",
    "plt.title('Attention to election', fontsize=22)"
   ]
  },
  {
   "cell_type": "markdown",
   "metadata": {},
   "source": [
    "# PartyID by Gender in terms of Ideology"
   ]
  },
  {
   "cell_type": "code",
   "execution_count": 29,
   "metadata": {},
   "outputs": [
    {
     "data": {
      "text/plain": [
       "PartyID      Gender\n",
       "Democratic   Female    192\n",
       "             Male      242\n",
       "Independent  Female    191\n",
       "             Male      240\n",
       "Republican   Female    133\n",
       "             Male      201\n",
       "Name: Ideology, dtype: int64"
      ]
     },
     "execution_count": 29,
     "metadata": {},
     "output_type": "execute_result"
    }
   ],
   "source": [
    "data.groupby(['PartyID', 'Gender']).count()['Ideology']"
   ]
  },
  {
   "cell_type": "code",
   "execution_count": 30,
   "metadata": {},
   "outputs": [
    {
     "data": {
      "text/plain": [
       "Text(0.5, 1.0, 'PartyID count by Gender')"
      ]
     },
     "execution_count": 30,
     "metadata": {},
     "output_type": "execute_result"
    },
    {
     "data": {
      "image/png": "[encoded data removed]",
      "text/plain": [
       "<Figure size 864x576 with 1 Axes>"
      ]
     },
     "metadata": {
      "needs_background": "light"
     },
     "output_type": "display_data"
    }
   ],
   "source": [
    "plt.figure(figsize=(12,8))\n",
    "x_gender = ['Female', 'Male']\n",
    "x_indexes = np.arange(len(x_gender))\n",
    "width = 0.1 \n",
    "\n",
    "y_demo = [192, 242]\n",
    "plt.bar(x_indexes + 0.1, y_demo, width = width ,label = 'Democratic')\n",
    "\n",
    "y_ind = [191, 240]\n",
    "plt.bar(x_indexes - 0.1, y_ind, width = width, label = 'Independent')\n",
    "\n",
    "y_rep = [133, 201]\n",
    "plt.bar(x_indexes, y_rep, width = width, label = 'Republic')\n",
    "\n",
    "\n",
    "plt.legend()\n",
    "\n",
    "plt.xlabel('Gender', fontsize=18)\n",
    "plt.xticks(ticks = x_indexes, labels = x_gender, fontsize = 12)\n",
    "plt.title('PartyID count by Gender', fontsize=22)"
   ]
  },
  {
   "cell_type": "code",
   "execution_count": null,
   "metadata": {},
   "outputs": [],
   "source": []
  },
  {
   "cell_type": "code",
   "execution_count": null,
   "metadata": {},
   "outputs": [],
   "source": []
  },
  {
   "cell_type": "code",
   "execution_count": null,
   "metadata": {},
   "outputs": [],
   "source": []
  },
  {
   "cell_type": "code",
   "execution_count": 36,
   "metadata": {},
   "outputs": [
    {
     "data": {
      "text/plain": [
       "array([0, 1])"
      ]
     },
     "execution_count": 36,
     "metadata": {},
     "output_type": "execute_result"
    }
   ],
   "source": [
    "x_indexes"
   ]
  },
  {
   "cell_type": "code",
   "execution_count": null,
   "metadata": {},
   "outputs": [],
   "source": []
  },
  {
   "cell_type": "code",
   "execution_count": null,
   "metadata": {},
   "outputs": [],
   "source": []
  },
  {
   "cell_type": "code",
   "execution_count": 29,
   "metadata": {},
   "outputs": [
    {
     "name": "stdout",
     "output_type": "stream",
     "text": [
      "3\n"
     ]
    }
   ],
   "source": [
    "freelist = ['mango', 'apple', 'orange']\n",
    "print(len(freelist))"
   ]
  },
  {
   "cell_type": "code",
   "execution_count": 34,
   "metadata": {},
   "outputs": [
    {
     "data": {
      "text/plain": [
       "array([0, 1, 2])"
      ]
     },
     "execution_count": 34,
     "metadata": {},
     "output_type": "execute_result"
    }
   ],
   "source": [
    "np.arange(3)"
   ]
  }
 ],
 "metadata": {
  "kernelspec": {
   "display_name": "Python 3",
   "language": "python",
   "name": "python3"
  },
  "language_info": {
   "codemirror_mode": {
    "name": "ipython",
    "version": 3
   },
   "file_extension": ".py",
   "mimetype": "text/x-python",
   "name": "python",
   "nbconvert_exporter": "python",
   "pygments_lexer": "ipython3",
   "version": "3.7.4"
  }
 },
 "nbformat": 4,
 "nbformat_minor": 2
}
